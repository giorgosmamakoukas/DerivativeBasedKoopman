{
  "nbformat": 4,
  "nbformat_minor": 0,
  "metadata": {
    "colab": {
      "name": "ErrorBounds.ipynb",
      "provenance": []
    },
    "kernelspec": {
      "name": "python3",
      "display_name": "Python 3"
    }
  },
  "cells": [
    {
      "cell_type": "markdown",
      "metadata": {
        "id": "pwb9J7iFyKiy",
        "colab_type": "text"
      },
      "source": [
        "# Verification of Data-driven Error Bounds for the Single Pendulum\n",
        "\n",
        "This file trains an approximate Koopman operator for the single pendulum system. Then, using the simulated data and the data-driven operator, it estimates the error bounds. Last, to verify the accuracy of the error bounds,  it plots them against the actual errors in the measured states, when those are propagated with the data-driven Koopman operator. "
      ]
    },
    {
      "cell_type": "markdown",
      "metadata": {
        "id": "8CAr94Mpy4nD",
        "colab_type": "text"
      },
      "source": [
        "## Import Python Libraries"
      ]
    },
    {
      "cell_type": "code",
      "metadata": {
        "id": "fW_5aCRlyNev",
        "colab_type": "code",
        "colab": {}
      },
      "source": [
        "\n",
        "from numpy import zeros, sin, cos, asarray, dot, empty, amax, ones, concatenate, linspace, arange\n",
        "from random import seed, uniform\n",
        "from scipy import linalg, io\n",
        "from math import pi\n",
        "from scipy.integrate import odeint\n",
        "from scipy.io import loadmat, savemat\n",
        "from matplotlib.pyplot import *\n",
        "from scipy.special import factorial"
      ],
      "execution_count": 0,
      "outputs": []
    },
    {
      "cell_type": "markdown",
      "metadata": {
        "id": "66xrwWcPy_JA",
        "colab_type": "text"
      },
      "source": [
        "## Simulation Parameters\n",
        "This code is set up to train a Koopman operator for the cart pendulum system for three choices of basis functions, using one, two, and three 3 derivatives of the pendulum angle θ. \n",
        "\n",
        "The user is encouraged to experiment with different number of derivatives $NKoopman \\in [2,4]$, different values for Samples, time spacings between state measurements $ts$ and the time horizon prediction $tFinal$. \n"
      ]
    },
    {
      "cell_type": "code",
      "metadata": {
        "id": "4HzYEWbCzZpJ",
        "colab_type": "code",
        "colab": {}
      },
      "source": [
        "Samples = 5000 # Number of random initial conditions for both training and testing data\n",
        "ts = 0.02 # time spacing between training state measurements\n",
        "tFinal = 0.3 # time horizon --- used in measuring error\n",
        "\n",
        "NKoopman = 4 # Number of basis functions (keep inside [2,4])\n",
        "Nstates = 2 # Number of system states\n",
        "Ncontrol = 1 # Number of system inputs\n",
        "\n",
        "timeSteps = round(tFinal/ts)+1\n",
        "\n",
        "####### System parameters\n",
        "g = 9.81 # gravitational constant\n",
        "l = 1 # pendulum length\n",
        "\n",
        "def single_pendulum(y,t, u):\n",
        "    theta, dtheta = y\n",
        "    f = asarray([dtheta, g/l * sin(theta) +  u ])\n",
        "    return f\n",
        "\n",
        "def Psi_k(s, u): # Evaluates basis functions Ψ(s(t_k))\n",
        "    theta, dtheta = s\n",
        "    psi = zeros([NKoopman,1])\n",
        "    psi[0:2, 0] = s\n",
        "    if NKoopman >= 3:\n",
        "        psi[2, 0] = g/l * sin(theta) + u\n",
        "    if NKoopman >= 4:\n",
        "        psi[3, 0] = g/l * cos(theta) * dtheta\n",
        "    return psi\n",
        "\n",
        "def A_and_G(s_1, s_2, u): # Uses measurements s(t_k) & s(t_{k+1}) to calculate A and G\n",
        "    A = dot(Psi_k(s_2, u), Psi_k(s_1, u).T)\n",
        "    G = dot(Psi_k(s_1, u), Psi_k(s_1, u).T)\n",
        "    return A, G\n",
        "\n",
        "def new_function_error(n,t): # error bound of an arbitrary function f using its n derivatives at time t \n",
        "    total_error = t**(n+1)/factorial(n+1)\n",
        "    return total_error"
      ],
      "execution_count": 0,
      "outputs": []
    },
    {
      "cell_type": "markdown",
      "metadata": {
        "id": "j3SUVyoj0uSu",
        "colab_type": "text"
      },
      "source": [
        "## Training Koopman Operator\n",
        "\n",
        "This code uses the single pendulum dynamics to forward simulate randomly sampled states. It then uses the state measurements $s$ separated in time by $ts$ to generate pairs of basis functions $Ψ(s, u)$ used to train an approximate Koopman operator $\\tilde{K}_d$."
      ]
    },
    {
      "cell_type": "code",
      "metadata": {
        "id": "djDJRzadzbNw",
        "colab_type": "code",
        "outputId": "88e01567-5fec-4c06-fdd7-089af7745687",
        "colab": {
          "base_uri": "https://localhost:8080/",
          "height": 119
        }
      },
      "source": [
        "seed(1)\n",
        "\n",
        "# Samples = Number_of_Samples\n",
        "A = zeros((NKoopman, NKoopman))\n",
        "G = zeros((NKoopman, NKoopman))\n",
        "\n",
        "Ps0_list = empty((Samples,NKoopman))\n",
        "Psi_list = empty((Samples,NKoopman))\n",
        "\n",
        "for i in range (Samples):\n",
        "\n",
        "    # Sample states\n",
        "    th0 = uniform(-2*pi, 2*pi)\n",
        "    dth0 = uniform(-5, 5)\n",
        "    s0 = [th0, dth0]\n",
        "    u10 = uniform(-5, 5)\n",
        "\n",
        "    # Simulate system forward\n",
        "    sn = odeint(single_pendulum, s0, [0, ts], args=(u10,))\n",
        "    sn = sn[-1,:]\n",
        "\n",
        "    # Evaluate basis functions at t = 0 and t = ts\n",
        "    Ps0_list[i,:] = Psi_k(s0, u10).T\n",
        "    Psi_list[i,:] = Psi_k(sn, u10).T\n",
        "\n",
        "    [Atemp, Gtemp] = A_and_G(s0,sn,u10);\n",
        "    A = A+Atemp\n",
        "    G = G+Gtemp\n",
        "\n",
        "Kd = dot(A,linalg.pinv2(G)) # more accurate than numpy\n",
        "print(\"The identified Koopman operator is \\n\", Kd)\n",
        "\n",
        "## Measure maximum local (across one time step) errors in Ψ(s_{k+1}) - Kd*Ψ(s_k)\n",
        "local_errors = empty([Samples, NKoopman])\n",
        "for i in range(Samples):\n",
        "    local_errors[i,:] = abs(Psi_list[i,:]- dot(Kd,Ps0_list[i,:]))\n",
        "max_local_errors = amax(local_errors, axis = 0)\n",
        "print('Max local errors in theta: %.5f and dtheta: %.5f ' % tuple(max_local_errors[0:2]))\n",
        "\n",
        "# Save trained Koopman and basis functions measurements used to obtain it\n",
        "io.savemat('Data - Koopman_and_BasisFunctions.mat', {'Kd' : Kd, 'max_local_errors' : max_local_errors}) # save variables to Matlab file"
      ],
      "execution_count": 78,
      "outputs": [
        {
          "output_type": "stream",
          "text": [
            "The identified Koopman operator is \n",
            " [[ 9.99999995e-01  1.99999977e-02  1.99952356e-04  1.33256131e-06]\n",
            " [-9.45540332e-07  9.99999454e-01  1.99905052e-02  1.99853537e-04]\n",
            " [-1.41628008e-04 -1.13283201e-04  9.98575120e-01  1.99731472e-02]\n",
            " [-1.41164295e-02 -1.77087638e-02 -1.42611972e-01  9.96309854e-01]]\n",
            "Max local errors in theta: 0.00000 and dtheta: 0.00028 \n"
          ],
          "name": "stdout"
        }
      ]
    },
    {
      "cell_type": "markdown",
      "metadata": {
        "id": "H79oXeIx1Iq4",
        "colab_type": "text"
      },
      "source": [
        "## Prediction Error Using Data-Driven Koopman Operator\n",
        "\n",
        "This code uses the trained Koopman operator $\\tilde{K}_d$ to forward propagate randomly sampled states $s$. It also forward propagates the same initial states using the true nonlinear dynamics and measures the inaccuracy of the Koopman propagation in the form of error trajectories over the time window $tFinal$ for each state $s$ for each random sample. "
      ]
    },
    {
      "cell_type": "code",
      "metadata": {
        "id": "7QnoB0rez3gB",
        "colab_type": "code",
        "colab": {}
      },
      "source": [
        "#!/usr/bin/env python\n",
        "# -*- coding: utf-8 -*-\n",
        "\n",
        "# Load learned Koopman operator\n",
        "KoopmanOperators = loadmat('Data - Koopman_and_BasisFunctions.mat', squeeze_me=True)\n",
        "Kd = KoopmanOperators['Kd']\n",
        "\n",
        "# Initialize variable to store error in states over time horizon for each sample\n",
        "error_history = empty((timeSteps, Samples, Nstates))\n",
        "\n",
        "for random_i in range(0, Samples):\n",
        "\n",
        "    # Generate random initial conditions for states and controls\n",
        "    th0 = uniform(-2*pi, 2*pi)\n",
        "    dth0 = uniform(-5, 5)\n",
        "    u10 = uniform(-5, 5)\n",
        "\n",
        "    s0 = [th0, dth0]\n",
        "    Psi = Psi_k(s0, u10) # evaluate basis functions at t = 0\n",
        "\n",
        "    s_Koopman = empty((timeSteps, Nstates)) # store state trajectories\n",
        "    s_Koopman[0,:] = Psi[0:Nstates].T\n",
        "\n",
        "    tt = linspace(0,tFinal, timeSteps)\n",
        "\n",
        "    for i in range(1, timeSteps):\n",
        "        Psi = dot(Kd,Psi) # Propagate with Koopman: Ψ_{k+1} = K_d * Ψ_k\n",
        "        s_Koopman[i,:] = Psi[0:Nstates].T\n",
        "\n",
        "    # Real dynamics evolution\n",
        "    tt = linspace(0,tFinal, timeSteps)\n",
        "    s_real = odeint(single_pendulum, s0, tt, args=(u10,))\n",
        "\n",
        "    # Errors\n",
        "    for i in range(Nstates):\n",
        "        error_history[:,random_i, i] = abs(s_real[:,i] - s_Koopman[:,i])\n",
        "\n",
        "error_history = amax(error_history, axis = 1)\n",
        "savemat('Data - Errors.mat', {'error_history' : error_history}) # save variables to Matlab file"
      ],
      "execution_count": 0,
      "outputs": []
    },
    {
      "cell_type": "markdown",
      "metadata": {
        "id": "kc_v5y_61QiK",
        "colab_type": "text"
      },
      "source": [
        "## Verification of Data-Driven Error Bounds \n",
        "\n",
        "This code uses the training set that produced the Koopman operator $\\tilde{K}_d$ to estimate the error bounds, which assume a Taylor-based structure in the Koopman operator $\\tilde{K}_d$. Then, the error bounds are plotted against the maximum error (across all random samples) for each state, when the latter are propagated with the Koopman operator. "
      ]
    },
    {
      "cell_type": "code",
      "metadata": {
        "id": "Br4Ty97l0Enl",
        "colab_type": "code",
        "outputId": "a9f69a75-fa12-4826-9381-1c6725f5909b",
        "colab": {
          "base_uri": "https://localhost:8080/",
          "height": 297
        }
      },
      "source": [
        "#!/usr/bin/env python\n",
        "# -*- coding: utf-8 -*-\n",
        "\n",
        "####### 1. Calculate error bounds\n",
        "mat1 = loadmat('Data - Koopman_and_BasisFunctions.mat', squeeze_me=True)\n",
        "max_local_errors = mat1['max_local_errors']\n",
        "\n",
        "nn = arange(NKoopman-1, NKoopman-3, -1) # excludes NKoopman-3\n",
        "coeff = ts**(nn+1) / factorial(nn+1)\n",
        "MaxDer = max_local_errors[0:Nstates]/coeff # max magnitude of derivatives\n",
        "\n",
        "E_bound = empty((timeSteps-1, Nstates))\n",
        "\n",
        "# % Mvalues = [51.8451; 51.8865];\n",
        "t = ts\n",
        "for t_k in range(timeSteps-1):\n",
        "    for states in range(Nstates):\n",
        "        E_bound[t_k, states] = MaxDer[states] * new_function_error(nn[states],t)\n",
        "    t += ts\n",
        "\n",
        "E_bound= concatenate((zeros((1,Nstates)), E_bound), axis = 0) # add 0 error for t = 0\n",
        "\n",
        "data = loadmat('Data - Errors.mat', squeeze_me=True)\n",
        "E = data['error_history']\n",
        "\n",
        "####### 2. Compare via plotting calculated error bounds with actual errors\n",
        "time = arange(0, tFinal+ts, ts) # create time vector\n",
        "ylabels = ['θ error (rad)', '$dθ$ error (rad/s)']\n",
        "for states in range(Nstates):\n",
        "    subplot('12'+str(states+1))\n",
        "    plot(time, E_bound[:,states], 'g') # Verification of data bound from data\n",
        "    plot(time, E[:,states], 'b.'); # actual error\n",
        "    ylabel(ylabels[states])\n",
        "\n",
        "tight_layout()\n",
        "gca().legend(('Data-driven bound', 'Actual error'))\n",
        "show(block=False)"
      ],
      "execution_count": 80,
      "outputs": [
        {
          "output_type": "display_data",
          "data": {
            "image/png": "[encoded data removed]",
            "text/plain": [
              "<Figure size 432x288 with 2 Axes>"
            ]
          },
          "metadata": {
            "tags": []
          }
        }
      ]
    }
  ]
}